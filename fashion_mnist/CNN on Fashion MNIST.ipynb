{
 "cells": [
  {
   "cell_type": "code",
   "execution_count": 26,
   "metadata": {},
   "outputs": [],
   "source": [
    "import numpy as np\n",
    "import pandas as pd\n",
    "from keras.utils import to_categorical\n",
    "from sklearn.model_selection import train_test_split\n",
    "import matplotlib.pyplot as plt\n",
    "%matplotlib inline\n",
    "import keras\n",
    "from keras.models import Sequential\n",
    "from keras.layers import Dense, Dropout, Flatten\n",
    "from keras.layers import Conv2D, MaxPooling2D\n",
    "from keras.layers.normalization import BatchNormalization\n"
   ]
  },
  {
   "cell_type": "code",
   "execution_count": 6,
   "metadata": {
    "collapsed": true
   },
   "outputs": [],
   "source": [
    "train_data=pd.read_csv(\"fashion-mnist_train.csv\")\n",
    "test_data=pd.read_csv(\"fashion-mnist_test.csv\")"
   ]
  },
  {
   "cell_type": "code",
   "execution_count": 7,
   "metadata": {
    "collapsed": true
   },
   "outputs": [],
   "source": [
    "img_rows,img_cols=28,28\n",
    "input_shape=(img_rows,img_cols,1)\n",
    "\n",
    "# column 1 is label and 784 columns contains the pixel values\n",
    "X = np.array(train_data.iloc[:, 1:])\n",
    "y = to_categorical(np.array(train_data.iloc[:, 0]))"
   ]
  },
  {
   "cell_type": "code",
   "execution_count": 12,
   "metadata": {},
   "outputs": [],
   "source": [
    "# splitting on train, validation and test set\n",
    "X_train, X_valid, y_train, y_valid = train_test_split(X, y, test_size=0.25, random_state=7)\n",
    "\n",
    "X_test=np.array(test_data.iloc[:,1:])\n",
    "y_test=to_categorical(np.array(test_data.iloc[:,0]))\n"
   ]
  },
  {
   "cell_type": "code",
   "execution_count": 13,
   "metadata": {},
   "outputs": [
    {
     "name": "stdout",
     "output_type": "stream",
     "text": [
      "(45000, 784)\n"
     ]
    }
   ],
   "source": [
    "print X_train.shape\n"
   ]
  },
  {
   "cell_type": "code",
   "execution_count": 14,
   "metadata": {},
   "outputs": [],
   "source": [
    "#reshaping the array into (no. of rows, img_rows, img_cols, 1)\n",
    "X_train=X_train.reshape(X_train.shape[0],img_rows,img_cols,1)\n",
    "X_train=X_train.astype('float32')\n",
    "X_train=X_train/255\n",
    "X_valid=X_valid.reshape(X_valid.shape[0],img_rows,img_cols,1)\n",
    "X_valid=X_valid.astype('float32')\n",
    "X_valid=X_valid/255\n",
    "X_test=X_test.reshape(X_test.shape[0],img_rows,img_cols,1)\n",
    "X_test=X_test.astype('float32')\n",
    "X_test=X_test/255"
   ]
  },
  {
   "cell_type": "code",
   "execution_count": 16,
   "metadata": {
    "collapsed": true
   },
   "outputs": [],
   "source": [
    "batch_size=256\n",
    "num_classes=10\n",
    "epochs=10\n"
   ]
  },
  {
   "cell_type": "code",
   "execution_count": 20,
   "metadata": {},
   "outputs": [],
   "source": [
    "model=Sequential()\n",
    "model.add(Conv2D(32, kernel_size=(3,3), activation='relu', input_shape=input_shape))\n",
    "model.add(MaxPooling2D(2,2))\n",
    "model.add(Flatten())\n",
    "model.add(Dense(128,activation='relu'))\n",
    "model.add(Dropout(0.25))\n",
    "model.add(Dense(num_classes, activation='softmax'))\n",
    "model.compile(loss=keras.losses.categorical_crossentropy, optimizer=keras.optimizers.Adam(),\n",
    "              metrics=['accuracy'])"
   ]
  },
  {
   "cell_type": "code",
   "execution_count": 21,
   "metadata": {},
   "outputs": [
    {
     "name": "stdout",
     "output_type": "stream",
     "text": [
      "_________________________________________________________________\n",
      "Layer (type)                 Output Shape              Param #   \n",
      "=================================================================\n",
      "conv2d_1 (Conv2D)            (None, 26, 26, 32)        320       \n",
      "_________________________________________________________________\n",
      "max_pooling2d_1 (MaxPooling2 (None, 13, 13, 32)        0         \n",
      "_________________________________________________________________\n",
      "flatten_1 (Flatten)          (None, 5408)              0         \n",
      "_________________________________________________________________\n",
      "dense_1 (Dense)              (None, 128)               692352    \n",
      "_________________________________________________________________\n",
      "dropout_1 (Dropout)          (None, 128)               0         \n",
      "_________________________________________________________________\n",
      "dense_2 (Dense)              (None, 10)                1290      \n",
      "=================================================================\n",
      "Total params: 693,962\n",
      "Trainable params: 693,962\n",
      "Non-trainable params: 0\n",
      "_________________________________________________________________\n"
     ]
    }
   ],
   "source": [
    "model.summary()"
   ]
  },
  {
   "cell_type": "code",
   "execution_count": 22,
   "metadata": {},
   "outputs": [
    {
     "name": "stdout",
     "output_type": "stream",
     "text": [
      "Train on 45000 samples, validate on 15000 samples\n",
      "Epoch 1/10\n",
      "45000/45000 [==============================] - 29s - loss: 0.5895 - acc: 0.7971 - val_loss: 0.3753 - val_acc: 0.8663\n",
      "Epoch 2/10\n",
      "45000/45000 [==============================] - 30s - loss: 0.3624 - acc: 0.8728 - val_loss: 0.3157 - val_acc: 0.8850\n",
      "Epoch 3/10\n",
      "45000/45000 [==============================] - 24s - loss: 0.3128 - acc: 0.8897 - val_loss: 0.2926 - val_acc: 0.8949\n",
      "Epoch 4/10\n",
      "45000/45000 [==============================] - 27s - loss: 0.2807 - acc: 0.8994 - val_loss: 0.2789 - val_acc: 0.8973\n",
      "Epoch 5/10\n",
      "45000/45000 [==============================] - 21s - loss: 0.2579 - acc: 0.9073 - val_loss: 0.2631 - val_acc: 0.9041\n",
      "Epoch 6/10\n",
      "45000/45000 [==============================] - 33s - loss: 0.2390 - acc: 0.9145 - val_loss: 0.2475 - val_acc: 0.9093\n",
      "Epoch 7/10\n",
      "45000/45000 [==============================] - 22s - loss: 0.2225 - acc: 0.9207 - val_loss: 0.2424 - val_acc: 0.9123\n",
      "Epoch 8/10\n",
      "45000/45000 [==============================] - 21s - loss: 0.2064 - acc: 0.9259 - val_loss: 0.2394 - val_acc: 0.9123\n",
      "Epoch 9/10\n",
      "45000/45000 [==============================] - 21s - loss: 0.1923 - acc: 0.9305 - val_loss: 0.2342 - val_acc: 0.9141\n",
      "Epoch 10/10\n",
      "45000/45000 [==============================] - 22s - loss: 0.1821 - acc: 0.9338 - val_loss: 0.2358 - val_acc: 0.9165\n"
     ]
    }
   ],
   "source": [
    "model_fit=model.fit(X_train,y_train,batch_size=batch_size, epochs=epochs, validation_data=(X_valid,y_valid))"
   ]
  },
  {
   "cell_type": "code",
   "execution_count": 23,
   "metadata": {
    "collapsed": true
   },
   "outputs": [],
   "source": [
    "score = model.evaluate(X_test, y_test, verbose=0)"
   ]
  },
  {
   "cell_type": "code",
   "execution_count": 24,
   "metadata": {},
   "outputs": [
    {
     "name": "stdout",
     "output_type": "stream",
     "text": [
      "[0.2281910673379898, 0.91749999999999998]\n"
     ]
    }
   ],
   "source": [
    "print score"
   ]
  },
  {
   "cell_type": "code",
   "execution_count": 25,
   "metadata": {},
   "outputs": [
    {
     "name": "stdout",
     "output_type": "stream",
     "text": [
      "loss: 0.228191067338\n",
      "accuracy: 0.9175\n"
     ]
    }
   ],
   "source": [
    "print \"loss:\", score[0]\n",
    "print \"accuracy:\",score[1]"
   ]
  },
  {
   "cell_type": "markdown",
   "metadata": {},
   "source": [
    "# Plotting accuracy and loss"
   ]
  },
  {
   "cell_type": "code",
   "execution_count": 28,
   "metadata": {},
   "outputs": [
    {
     "name": "stdout",
     "output_type": "stream",
     "text": [
      "[0.7971111109945509, 0.87277777773539222, 0.8896666667620341, 0.89937777789433793, 0.90728888892067805, 0.91453333331214059, 0.92066666653951013, 0.92591111120647851, 0.93046666669845579, 0.93384444449742632] [0.86633333342870078, 0.88500000028610226, 0.89486666660308833, 0.89733333317438757, 0.90413333326975509, 0.90926666644414267, 0.91233333336512246, 0.9122666666984558, 0.91413333361943561, 0.91653333336512244] [0.58953860049777562, 0.36236501740879484, 0.31279744767083062, 0.28066423344082303, 0.25792376804351808, 0.23903602223926121, 0.22254652973281014, 0.20640983946853214, 0.19228208565976884, 0.18206696329646641] [0.37528108587265013, 0.31574039835929868, 0.29263302060763041, 0.27888503290812172, 0.26313966143925982, 0.24745152467091877, 0.24241385873953503, 0.23940413266817728, 0.23416090569496154, 0.23583941552639007]\n"
     ]
    }
   ],
   "source": [
    "acc=model_fit.history['acc']\n",
    "validation_acc=model_fit.history['val_acc']\n",
    "loss=model_fit.history['loss']\n",
    "validation_loss=model_fit.history['val_loss']\n",
    "\n",
    "print acc, validation_acc, loss, validation_loss"
   ]
  },
  {
   "cell_type": "code",
   "execution_count": 36,
   "metadata": {},
   "outputs": [
    {
     "data": {
      "image/png": "[encoded data removed]",
      "text/plain": [
       "<matplotlib.figure.Figure at 0x129432150>"
      ]
     },
     "metadata": {},
     "output_type": "display_data"
    }
   ],
   "source": [
    "x_axis=range(epochs)\n",
    "plt.plot(x_axis,acc,label=\"accuracy\")\n",
    "plt.plot(x_axis,validation_acc,label=\"validation accuracy\")\n",
    "plt.legend()\n",
    "plt.xlabel(\"Number of epochs\")\n",
    "plt.ylabel(\"accuracy\")\n",
    "plt.title(\"accuracy vs validation accuracy\")\n",
    "\n",
    "plt.show()"
   ]
  },
  {
   "cell_type": "code",
   "execution_count": 37,
   "metadata": {},
   "outputs": [
    {
     "data": {
      "image/png": "[encoded data removed]",
      "text/plain": [
       "<matplotlib.figure.Figure at 0x12944f510>"
      ]
     },
     "metadata": {},
     "output_type": "display_data"
    }
   ],
   "source": [
    "x_axis=range(epochs)\n",
    "plt.plot(x_axis,loss,label=\"loss\")\n",
    "plt.plot(x_axis,validation_loss,label=\"validation loss\")\n",
    "plt.legend()\n",
    "plt.xlabel(\"Number of epochs\")\n",
    "plt.ylabel(\"loss\")\n",
    "plt.title(\"loss vs validation loss\")\n",
    "\n",
    "plt.show()"
   ]
  },
  {
   "cell_type": "code",
   "execution_count": null,
   "metadata": {
    "collapsed": true
   },
   "outputs": [],
   "source": []
  }
 ],
 "metadata": {
  "kernelspec": {
   "display_name": "Python 2",
   "language": "python",
   "name": "python2"
  },
  "language_info": {
   "codemirror_mode": {
    "name": "ipython",
    "version": 2
   },
   "file_extension": ".py",
   "mimetype": "text/x-python",
   "name": "python",
   "nbconvert_exporter": "python",
   "pygments_lexer": "ipython2",
   "version": "2.7.13"
  }
 },
 "nbformat": 4,
 "nbformat_minor": 2
}
